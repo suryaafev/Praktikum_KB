{
  "nbformat": 4,
  "nbformat_minor": 0,
  "metadata": {
    "colab": {
      "provenance": []
    },
    "kernelspec": {
      "name": "python3",
      "display_name": "Python 3"
    },
    "language_info": {
      "name": "python"
    }
  },
  "cells": [
    {
      "cell_type": "markdown",
      "source": [
        "##POSTTEST 5\n",
        "###Surya Abdi Febrianto\n",
        "2209106074"
      ],
      "metadata": {
        "id": "NUT40Dvnk0-Z"
      }
    },
    {
      "cell_type": "markdown",
      "source": [
        "\n",
        "### 1. Instalasi TensorFlow\n",
        "Instal TensorFlow untuk memanfaatkan API Keras.\n",
        "```python\n",
        "!pip install tensorflow\n"
      ],
      "metadata": {
        "id": "oYcu6v2ajJAa"
      }
    },
    {
      "cell_type": "markdown",
      "source": [
        "\n",
        "### 2. Import Library yang Diperlukan\n",
        "Impor semua library yang dibutuhkan."
      ],
      "metadata": {
        "id": "DEeEJu0akGcw"
      }
    },
    {
      "cell_type": "code",
      "source": [
        "import pandas as pd\n",
        "import numpy as np\n",
        "import matplotlib.pyplot as plt\n",
        "from sklearn.model_selection import train_test_split\n",
        "from sklearn.preprocessing import LabelEncoder, StandardScaler\n",
        "from tensorflow.keras.models import Sequential\n",
        "from tensorflow.keras.layers import Dense\n"
      ],
      "metadata": {
        "id": "WbA10VD3jK90"
      },
      "execution_count": 8,
      "outputs": []
    },
    {
      "cell_type": "markdown",
      "source": [
        "### 3. Membaca Dataset\n",
        "Membaca file CSV\n"
      ],
      "metadata": {
        "id": "TU-3QR_PjY34"
      }
    },
    {
      "cell_type": "code",
      "source": [
        "df = pd.read_csv('StudentsPerformance.csv')\n"
      ],
      "metadata": {
        "id": "ghTreuGKjIj9"
      },
      "execution_count": 9,
      "outputs": []
    },
    {
      "cell_type": "markdown",
      "source": [
        "\n",
        "### 4. Pra-pemrosesan Data\n",
        "- Encode data kategorikal.\n",
        "- Pisahkan fitur dan target.\n",
        "- Standarisasi data."
      ],
      "metadata": {
        "id": "k_e7CxMUkbEt"
      }
    },
    {
      "cell_type": "code",
      "source": [
        "label_encoder = LabelEncoder()\n",
        "df['gender'] = label_encoder.fit_transform(df['gender'])\n",
        "df['race/ethnicity'] = label_encoder.fit_transform(df['race/ethnicity'])\n",
        "df['parental level of education'] = label_encoder.fit_transform(df['parental level of education'])\n",
        "df['lunch'] = label_encoder.fit_transform(df['lunch'])\n",
        "df['test preparation course'] = label_encoder.fit_transform(df['test preparation course'])\n",
        "\n",
        "X = df.drop(['math score', 'reading score', 'writing score'], axis=1)\n",
        "y = df[['math score', 'reading score', 'writing score']].mean(axis=1)\n",
        "\n",
        "scaler = StandardScaler()\n",
        "X = scaler.fit_transform(X)\n"
      ],
      "metadata": {
        "id": "P0MXrqWGjeRb"
      },
      "execution_count": 10,
      "outputs": []
    },
    {
      "cell_type": "markdown",
      "source": [
        "### 5. Memisahkan Data\n",
        "Pisahkan data menjadi set pelatihan dan validasi."
      ],
      "metadata": {
        "id": "YG47qiKokStj"
      }
    },
    {
      "cell_type": "code",
      "source": [
        "X_train, X_val, y_train, y_val = train_test_split(X, y, test_size=0.2, random_state=42)\n"
      ],
      "metadata": {
        "id": "BhpdVCwyjfYL"
      },
      "execution_count": 11,
      "outputs": []
    },
    {
      "cell_type": "markdown",
      "source": [
        "\n",
        "### 6. Membuat Model Sequential\n",
        "Buat model neural network sederhana."
      ],
      "metadata": {
        "id": "LxDDqCF0kgq-"
      }
    },
    {
      "cell_type": "code",
      "source": [
        "model = Sequential([\n",
        "    Dense(64, input_dim=X_train.shape[1], activation='relu'),\n",
        "    Dense(32, activation='relu'),\n",
        "    Dense(1, activation='linear')  # Regresi\n",
        "])\n"
      ],
      "metadata": {
        "colab": {
          "base_uri": "https://localhost:8080/"
        },
        "id": "oaolw0zCjgLs",
        "outputId": "50853401-29bb-4cc7-ec10-c4dffd490787"
      },
      "execution_count": 12,
      "outputs": [
        {
          "output_type": "stream",
          "name": "stderr",
          "text": [
            "/usr/local/lib/python3.10/dist-packages/keras/src/layers/core/dense.py:87: UserWarning: Do not pass an `input_shape`/`input_dim` argument to a layer. When using Sequential models, prefer using an `Input(shape)` object as the first layer in the model instead.\n",
            "  super().__init__(activity_regularizer=activity_regularizer, **kwargs)\n"
          ]
        }
      ]
    },
    {
      "cell_type": "markdown",
      "source": [
        "### 7. Mengkompilasi dan Melatih Model\n",
        "Kompilasi model dan latih dengan data pelatihan."
      ],
      "metadata": {
        "id": "KWuOGJ2jkiSh"
      }
    },
    {
      "cell_type": "code",
      "source": [
        "model.compile(optimizer='adam', loss='mean_squared_error', metrics=['mae'])\n",
        "history = model.fit(X_train, y_train, epochs=50, validation_data=(X_val, y_val), batch_size=32)\n"
      ],
      "metadata": {
        "colab": {
          "base_uri": "https://localhost:8080/"
        },
        "id": "PHMFtJstjhC4",
        "outputId": "0a649b7a-63c6-4dbb-de23-5cfc4ba75570"
      },
      "execution_count": 13,
      "outputs": [
        {
          "output_type": "stream",
          "name": "stdout",
          "text": [
            "Epoch 1/50\n",
            "\u001b[1m25/25\u001b[0m \u001b[32m━━━━━━━━━━━━━━━━━━━━\u001b[0m\u001b[37m\u001b[0m \u001b[1m2s\u001b[0m 10ms/step - loss: 4748.9707 - mae: 67.4182 - val_loss: 4467.6558 - val_mae: 65.2031\n",
            "Epoch 2/50\n",
            "\u001b[1m25/25\u001b[0m \u001b[32m━━━━━━━━━━━━━━━━━━━━\u001b[0m\u001b[37m\u001b[0m \u001b[1m0s\u001b[0m 4ms/step - loss: 4611.7656 - mae: 66.2772 - val_loss: 4272.7798 - val_mae: 63.6746\n",
            "Epoch 3/50\n",
            "\u001b[1m25/25\u001b[0m \u001b[32m━━━━━━━━━━━━━━━━━━━━\u001b[0m\u001b[37m\u001b[0m \u001b[1m0s\u001b[0m 3ms/step - loss: 4452.5186 - mae: 65.1651 - val_loss: 3933.0986 - val_mae: 60.9172\n",
            "Epoch 4/50\n",
            "\u001b[1m25/25\u001b[0m \u001b[32m━━━━━━━━━━━━━━━━━━━━\u001b[0m\u001b[37m\u001b[0m \u001b[1m0s\u001b[0m 3ms/step - loss: 3997.0991 - mae: 61.3797 - val_loss: 3404.5247 - val_mae: 56.3549\n",
            "Epoch 5/50\n",
            "\u001b[1m25/25\u001b[0m \u001b[32m━━━━━━━━━━━━━━━━━━━━\u001b[0m\u001b[37m\u001b[0m \u001b[1m0s\u001b[0m 3ms/step - loss: 3515.4707 - mae: 57.4647 - val_loss: 2671.9346 - val_mae: 49.3755\n",
            "Epoch 6/50\n",
            "\u001b[1m25/25\u001b[0m \u001b[32m━━━━━━━━━━━━━━━━━━━━\u001b[0m\u001b[37m\u001b[0m \u001b[1m0s\u001b[0m 3ms/step - loss: 2746.2834 - mae: 50.0369 - val_loss: 1829.1670 - val_mae: 40.0132\n",
            "Epoch 7/50\n",
            "\u001b[1m25/25\u001b[0m \u001b[32m━━━━━━━━━━━━━━━━━━━━\u001b[0m\u001b[37m\u001b[0m \u001b[1m0s\u001b[0m 6ms/step - loss: 1828.8088 - mae: 39.8450 - val_loss: 1040.3485 - val_mae: 28.8426\n",
            "Epoch 8/50\n",
            "\u001b[1m25/25\u001b[0m \u001b[32m━━━━━━━━━━━━━━━━━━━━\u001b[0m\u001b[37m\u001b[0m \u001b[1m0s\u001b[0m 5ms/step - loss: 990.6974 - mae: 27.9149 - val_loss: 494.5542 - val_mae: 18.8944\n",
            "Epoch 9/50\n",
            "\u001b[1m25/25\u001b[0m \u001b[32m━━━━━━━━━━━━━━━━━━━━\u001b[0m\u001b[37m\u001b[0m \u001b[1m0s\u001b[0m 7ms/step - loss: 472.6353 - mae: 18.2290 - val_loss: 271.6355 - val_mae: 13.5757\n",
            "Epoch 10/50\n",
            "\u001b[1m25/25\u001b[0m \u001b[32m━━━━━━━━━━━━━━━━━━━━\u001b[0m\u001b[37m\u001b[0m \u001b[1m0s\u001b[0m 8ms/step - loss: 244.8846 - mae: 12.8009 - val_loss: 232.5589 - val_mae: 12.0523\n",
            "Epoch 11/50\n",
            "\u001b[1m25/25\u001b[0m \u001b[32m━━━━━━━━━━━━━━━━━━━━\u001b[0m\u001b[37m\u001b[0m \u001b[1m1s\u001b[0m 8ms/step - loss: 210.1864 - mae: 11.6728 - val_loss: 231.3509 - val_mae: 11.9683\n",
            "Epoch 12/50\n",
            "\u001b[1m25/25\u001b[0m \u001b[32m━━━━━━━━━━━━━━━━━━━━\u001b[0m\u001b[37m\u001b[0m \u001b[1m0s\u001b[0m 6ms/step - loss: 191.4948 - mae: 11.2606 - val_loss: 230.8170 - val_mae: 11.9836\n",
            "Epoch 13/50\n",
            "\u001b[1m25/25\u001b[0m \u001b[32m━━━━━━━━━━━━━━━━━━━━\u001b[0m\u001b[37m\u001b[0m \u001b[1m0s\u001b[0m 6ms/step - loss: 177.5381 - mae: 10.7637 - val_loss: 228.5572 - val_mae: 11.9284\n",
            "Epoch 14/50\n",
            "\u001b[1m25/25\u001b[0m \u001b[32m━━━━━━━━━━━━━━━━━━━━\u001b[0m\u001b[37m\u001b[0m \u001b[1m0s\u001b[0m 5ms/step - loss: 184.7651 - mae: 10.9012 - val_loss: 227.9444 - val_mae: 11.9025\n",
            "Epoch 15/50\n",
            "\u001b[1m25/25\u001b[0m \u001b[32m━━━━━━━━━━━━━━━━━━━━\u001b[0m\u001b[37m\u001b[0m \u001b[1m0s\u001b[0m 5ms/step - loss: 169.6651 - mae: 10.4284 - val_loss: 224.8179 - val_mae: 11.8111\n",
            "Epoch 16/50\n",
            "\u001b[1m25/25\u001b[0m \u001b[32m━━━━━━━━━━━━━━━━━━━━\u001b[0m\u001b[37m\u001b[0m \u001b[1m0s\u001b[0m 4ms/step - loss: 178.2306 - mae: 10.7912 - val_loss: 223.6044 - val_mae: 11.7681\n",
            "Epoch 17/50\n",
            "\u001b[1m25/25\u001b[0m \u001b[32m━━━━━━━━━━━━━━━━━━━━\u001b[0m\u001b[37m\u001b[0m \u001b[1m0s\u001b[0m 4ms/step - loss: 184.8568 - mae: 11.0678 - val_loss: 222.4920 - val_mae: 11.7433\n",
            "Epoch 18/50\n",
            "\u001b[1m25/25\u001b[0m \u001b[32m━━━━━━━━━━━━━━━━━━━━\u001b[0m\u001b[37m\u001b[0m \u001b[1m0s\u001b[0m 3ms/step - loss: 166.9718 - mae: 10.4313 - val_loss: 221.2659 - val_mae: 11.6890\n",
            "Epoch 19/50\n",
            "\u001b[1m25/25\u001b[0m \u001b[32m━━━━━━━━━━━━━━━━━━━━\u001b[0m\u001b[37m\u001b[0m \u001b[1m0s\u001b[0m 4ms/step - loss: 168.0860 - mae: 10.4935 - val_loss: 219.3476 - val_mae: 11.6279\n",
            "Epoch 20/50\n",
            "\u001b[1m25/25\u001b[0m \u001b[32m━━━━━━━━━━━━━━━━━━━━\u001b[0m\u001b[37m\u001b[0m \u001b[1m0s\u001b[0m 3ms/step - loss: 163.6620 - mae: 10.2910 - val_loss: 218.9717 - val_mae: 11.6087\n",
            "Epoch 21/50\n",
            "\u001b[1m25/25\u001b[0m \u001b[32m━━━━━━━━━━━━━━━━━━━━\u001b[0m\u001b[37m\u001b[0m \u001b[1m0s\u001b[0m 3ms/step - loss: 187.7006 - mae: 11.1849 - val_loss: 217.3066 - val_mae: 11.5580\n",
            "Epoch 22/50\n",
            "\u001b[1m25/25\u001b[0m \u001b[32m━━━━━━━━━━━━━━━━━━━━\u001b[0m\u001b[37m\u001b[0m \u001b[1m0s\u001b[0m 3ms/step - loss: 170.1194 - mae: 10.4876 - val_loss: 217.4129 - val_mae: 11.5534\n",
            "Epoch 23/50\n",
            "\u001b[1m25/25\u001b[0m \u001b[32m━━━━━━━━━━━━━━━━━━━━\u001b[0m\u001b[37m\u001b[0m \u001b[1m0s\u001b[0m 3ms/step - loss: 171.9747 - mae: 10.6267 - val_loss: 215.2395 - val_mae: 11.5038\n",
            "Epoch 24/50\n",
            "\u001b[1m25/25\u001b[0m \u001b[32m━━━━━━━━━━━━━━━━━━━━\u001b[0m\u001b[37m\u001b[0m \u001b[1m0s\u001b[0m 4ms/step - loss: 159.1702 - mae: 10.1094 - val_loss: 215.0405 - val_mae: 11.4932\n",
            "Epoch 25/50\n",
            "\u001b[1m25/25\u001b[0m \u001b[32m━━━━━━━━━━━━━━━━━━━━\u001b[0m\u001b[37m\u001b[0m \u001b[1m0s\u001b[0m 4ms/step - loss: 175.4971 - mae: 10.7471 - val_loss: 213.7693 - val_mae: 11.4511\n",
            "Epoch 26/50\n",
            "\u001b[1m25/25\u001b[0m \u001b[32m━━━━━━━━━━━━━━━━━━━━\u001b[0m\u001b[37m\u001b[0m \u001b[1m0s\u001b[0m 3ms/step - loss: 159.5590 - mae: 10.2348 - val_loss: 213.5408 - val_mae: 11.4298\n",
            "Epoch 27/50\n",
            "\u001b[1m25/25\u001b[0m \u001b[32m━━━━━━━━━━━━━━━━━━━━\u001b[0m\u001b[37m\u001b[0m \u001b[1m0s\u001b[0m 3ms/step - loss: 166.1914 - mae: 10.4524 - val_loss: 212.4883 - val_mae: 11.3989\n",
            "Epoch 28/50\n",
            "\u001b[1m25/25\u001b[0m \u001b[32m━━━━━━━━━━━━━━━━━━━━\u001b[0m\u001b[37m\u001b[0m \u001b[1m0s\u001b[0m 3ms/step - loss: 148.1127 - mae: 9.7220 - val_loss: 211.7139 - val_mae: 11.3844\n",
            "Epoch 29/50\n",
            "\u001b[1m25/25\u001b[0m \u001b[32m━━━━━━━━━━━━━━━━━━━━\u001b[0m\u001b[37m\u001b[0m \u001b[1m0s\u001b[0m 3ms/step - loss: 168.2220 - mae: 10.4762 - val_loss: 211.8110 - val_mae: 11.3818\n",
            "Epoch 30/50\n",
            "\u001b[1m25/25\u001b[0m \u001b[32m━━━━━━━━━━━━━━━━━━━━\u001b[0m\u001b[37m\u001b[0m \u001b[1m0s\u001b[0m 3ms/step - loss: 152.0878 - mae: 10.0349 - val_loss: 210.7999 - val_mae: 11.3586\n",
            "Epoch 31/50\n",
            "\u001b[1m25/25\u001b[0m \u001b[32m━━━━━━━━━━━━━━━━━━━━\u001b[0m\u001b[37m\u001b[0m \u001b[1m0s\u001b[0m 5ms/step - loss: 163.7978 - mae: 10.4344 - val_loss: 211.7997 - val_mae: 11.3634\n",
            "Epoch 32/50\n",
            "\u001b[1m25/25\u001b[0m \u001b[32m━━━━━━━━━━━━━━━━━━━━\u001b[0m\u001b[37m\u001b[0m \u001b[1m0s\u001b[0m 6ms/step - loss: 154.8125 - mae: 10.0861 - val_loss: 209.9721 - val_mae: 11.3389\n",
            "Epoch 33/50\n",
            "\u001b[1m25/25\u001b[0m \u001b[32m━━━━━━━━━━━━━━━━━━━━\u001b[0m\u001b[37m\u001b[0m \u001b[1m0s\u001b[0m 3ms/step - loss: 163.6396 - mae: 10.3000 - val_loss: 208.1983 - val_mae: 11.2966\n",
            "Epoch 34/50\n",
            "\u001b[1m25/25\u001b[0m \u001b[32m━━━━━━━━━━━━━━━━━━━━\u001b[0m\u001b[37m\u001b[0m \u001b[1m0s\u001b[0m 3ms/step - loss: 163.4316 - mae: 10.3368 - val_loss: 209.2895 - val_mae: 11.3113\n",
            "Epoch 35/50\n",
            "\u001b[1m25/25\u001b[0m \u001b[32m━━━━━━━━━━━━━━━━━━━━\u001b[0m\u001b[37m\u001b[0m \u001b[1m0s\u001b[0m 5ms/step - loss: 166.3780 - mae: 10.4686 - val_loss: 207.7593 - val_mae: 11.2694\n",
            "Epoch 36/50\n",
            "\u001b[1m25/25\u001b[0m \u001b[32m━━━━━━━━━━━━━━━━━━━━\u001b[0m\u001b[37m\u001b[0m \u001b[1m0s\u001b[0m 11ms/step - loss: 161.3239 - mae: 10.2062 - val_loss: 208.1269 - val_mae: 11.2759\n",
            "Epoch 37/50\n",
            "\u001b[1m25/25\u001b[0m \u001b[32m━━━━━━━━━━━━━━━━━━━━\u001b[0m\u001b[37m\u001b[0m \u001b[1m0s\u001b[0m 12ms/step - loss: 159.7713 - mae: 10.1956 - val_loss: 208.3194 - val_mae: 11.2797\n",
            "Epoch 38/50\n",
            "\u001b[1m25/25\u001b[0m \u001b[32m━━━━━━━━━━━━━━━━━━━━\u001b[0m\u001b[37m\u001b[0m \u001b[1m0s\u001b[0m 5ms/step - loss: 164.8520 - mae: 10.3182 - val_loss: 206.8000 - val_mae: 11.2427\n",
            "Epoch 39/50\n",
            "\u001b[1m25/25\u001b[0m \u001b[32m━━━━━━━━━━━━━━━━━━━━\u001b[0m\u001b[37m\u001b[0m \u001b[1m0s\u001b[0m 6ms/step - loss: 155.3509 - mae: 9.9086 - val_loss: 207.5994 - val_mae: 11.2634\n",
            "Epoch 40/50\n",
            "\u001b[1m25/25\u001b[0m \u001b[32m━━━━━━━━━━━━━━━━━━━━\u001b[0m\u001b[37m\u001b[0m \u001b[1m0s\u001b[0m 12ms/step - loss: 148.6927 - mae: 9.9140 - val_loss: 206.8040 - val_mae: 11.2458\n",
            "Epoch 41/50\n",
            "\u001b[1m25/25\u001b[0m \u001b[32m━━━━━━━━━━━━━━━━━━━━\u001b[0m\u001b[37m\u001b[0m \u001b[1m0s\u001b[0m 9ms/step - loss: 170.0677 - mae: 10.4848 - val_loss: 206.8883 - val_mae: 11.2400\n",
            "Epoch 42/50\n",
            "\u001b[1m25/25\u001b[0m \u001b[32m━━━━━━━━━━━━━━━━━━━━\u001b[0m\u001b[37m\u001b[0m \u001b[1m0s\u001b[0m 6ms/step - loss: 157.8026 - mae: 10.0361 - val_loss: 206.7210 - val_mae: 11.2203\n",
            "Epoch 43/50\n",
            "\u001b[1m25/25\u001b[0m \u001b[32m━━━━━━━━━━━━━━━━━━━━\u001b[0m\u001b[37m\u001b[0m \u001b[1m0s\u001b[0m 12ms/step - loss: 161.3695 - mae: 10.3507 - val_loss: 205.3115 - val_mae: 11.2077\n",
            "Epoch 44/50\n",
            "\u001b[1m25/25\u001b[0m \u001b[32m━━━━━━━━━━━━━━━━━━━━\u001b[0m\u001b[37m\u001b[0m \u001b[1m0s\u001b[0m 7ms/step - loss: 161.1553 - mae: 10.2314 - val_loss: 205.8017 - val_mae: 11.2240\n",
            "Epoch 45/50\n",
            "\u001b[1m25/25\u001b[0m \u001b[32m━━━━━━━━━━━━━━━━━━━━\u001b[0m\u001b[37m\u001b[0m \u001b[1m0s\u001b[0m 10ms/step - loss: 153.1016 - mae: 10.0339 - val_loss: 205.2417 - val_mae: 11.2031\n",
            "Epoch 46/50\n",
            "\u001b[1m25/25\u001b[0m \u001b[32m━━━━━━━━━━━━━━━━━━━━\u001b[0m\u001b[37m\u001b[0m \u001b[1m0s\u001b[0m 6ms/step - loss: 160.3904 - mae: 10.2073 - val_loss: 204.5532 - val_mae: 11.1662\n",
            "Epoch 47/50\n",
            "\u001b[1m25/25\u001b[0m \u001b[32m━━━━━━━━━━━━━━━━━━━━\u001b[0m\u001b[37m\u001b[0m \u001b[1m0s\u001b[0m 9ms/step - loss: 157.9244 - mae: 10.1841 - val_loss: 205.1783 - val_mae: 11.2132\n",
            "Epoch 48/50\n",
            "\u001b[1m25/25\u001b[0m \u001b[32m━━━━━━━━━━━━━━━━━━━━\u001b[0m\u001b[37m\u001b[0m \u001b[1m0s\u001b[0m 3ms/step - loss: 146.6663 - mae: 9.8587 - val_loss: 206.0705 - val_mae: 11.2092\n",
            "Epoch 49/50\n",
            "\u001b[1m25/25\u001b[0m \u001b[32m━━━━━━━━━━━━━━━━━━━━\u001b[0m\u001b[37m\u001b[0m \u001b[1m0s\u001b[0m 3ms/step - loss: 160.1897 - mae: 10.2847 - val_loss: 203.4941 - val_mae: 11.1612\n",
            "Epoch 50/50\n",
            "\u001b[1m25/25\u001b[0m \u001b[32m━━━━━━━━━━━━━━━━━━━━\u001b[0m\u001b[37m\u001b[0m \u001b[1m0s\u001b[0m 3ms/step - loss: 160.3514 - mae: 10.2390 - val_loss: 204.3857 - val_mae: 11.1688\n"
          ]
        }
      ]
    },
    {
      "cell_type": "markdown",
      "source": [
        "### 8. Mengevaluasi Model\n",
        "Evaluasi model dengan data pelatihan dan validasi."
      ],
      "metadata": {
        "id": "-zf5N_gRkkYf"
      }
    },
    {
      "cell_type": "code",
      "source": [
        "train_loss, train_mae = model.evaluate(X_train, y_train)\n",
        "val_loss, val_mae = model.evaluate(X_val, y_val)\n",
        "print(f'Training MAE: {train_mae:.2f}, Validation MAE: {val_mae:.2f}')\n"
      ],
      "metadata": {
        "colab": {
          "base_uri": "https://localhost:8080/"
        },
        "id": "LDB1YJvSji0b",
        "outputId": "02127908-2414-414c-ef5c-a83887ef9a36"
      },
      "execution_count": 14,
      "outputs": [
        {
          "output_type": "stream",
          "name": "stdout",
          "text": [
            "\u001b[1m25/25\u001b[0m \u001b[32m━━━━━━━━━━━━━━━━━━━━\u001b[0m\u001b[37m\u001b[0m \u001b[1m0s\u001b[0m 2ms/step - loss: 159.4342 - mae: 10.1986 \n",
            "\u001b[1m7/7\u001b[0m \u001b[32m━━━━━━━━━━━━━━━━━━━━\u001b[0m\u001b[37m\u001b[0m \u001b[1m0s\u001b[0m 2ms/step - loss: 225.4897 - mae: 11.4698 \n",
            "Training MAE: 10.03, Validation MAE: 11.17\n"
          ]
        }
      ]
    },
    {
      "cell_type": "markdown",
      "source": [
        "### 9. Menghitung dan Menampilkan Akurasi\n",
        "Hitung akurasi berdasarkan ambang batas yang ditetapkan."
      ],
      "metadata": {
        "id": "K15NBx9bkmar"
      }
    },
    {
      "cell_type": "code",
      "source": [
        "y_pred = model.predict(X_val)\n",
        "threshold = 50  # Ambang batas\n",
        "y_pred_class = (y_pred >= threshold).astype(int)\n",
        "y_val_class = (y_val >= threshold).astype(int)\n",
        "\n",
        "accuracy = np.mean(y_pred_class.flatten() == y_val_class.values.flatten()) * 100\n",
        "print(f'Akurasi Validasi: {accuracy:.2f}%')\n",
        "\n",
        "# Memeriksa syarat akurasi\n",
        "if accuracy >= 70:\n",
        "    print(\"Akurasi Validasi sudah memenuhi syarat \")\n",
        "else:\n",
        "    print(\"Akurasi Validasi belum memenuhi syarat \")\n"
      ],
      "metadata": {
        "colab": {
          "base_uri": "https://localhost:8080/"
        },
        "id": "uIZ-zIcvjjnN",
        "outputId": "978f98e9-a6b7-481f-a419-83cc9b389d01"
      },
      "execution_count": 16,
      "outputs": [
        {
          "output_type": "stream",
          "name": "stdout",
          "text": [
            "\u001b[1m7/7\u001b[0m \u001b[32m━━━━━━━━━━━━━━━━━━━━\u001b[0m\u001b[37m\u001b[0m \u001b[1m0s\u001b[0m 2ms/step \n",
            "Akurasi Validasi: 86.50%\n",
            "Akurasi Validasi sudah memenuhi syarat \n"
          ]
        }
      ]
    },
    {
      "cell_type": "markdown",
      "source": [
        "### 10. Visualisasi Hasil\n",
        "Visualisasikan hasil MAE selama pelatihan."
      ],
      "metadata": {
        "id": "VWtMF7Cykv8S"
      }
    },
    {
      "cell_type": "code",
      "source": [
        "plt.plot(history.history['mae'], label='Training MAE')\n",
        "plt.plot(history.history['val_mae'], label='Validation MAE')\n",
        "plt.title('Training and Validation MAE')\n",
        "plt.xlabel('Epochs')\n",
        "plt.ylabel('Mean Absolute Error (MAE)')\n",
        "plt.legend()\n",
        "plt.show()\n"
      ],
      "metadata": {
        "colab": {
          "base_uri": "https://localhost:8080/",
          "height": 472
        },
        "id": "jEwR1KR7jkp1",
        "outputId": "fe0e989a-bfa5-4398-8c7a-03a539fdaa90"
      },
      "execution_count": 17,
      "outputs": [
        {
          "output_type": "display_data",
          "data": {
            "text/plain": [
              "<Figure size 640x480 with 1 Axes>"
            ],
            "image/png": "[encoded data removed]"
          },
          "metadata": {}
        }
      ]
    },
    {
      "cell_type": "markdown",
      "source": [],
      "metadata": {
        "id": "PwFUaoIrkzlv"
      }
    }
  ]
}